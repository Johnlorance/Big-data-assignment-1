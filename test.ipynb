{
 "cells": [
  {
   "cell_type": "code",
   "execution_count": 1,
   "metadata": {},
   "outputs": [],
   "source": [
    "import argparse\n",
    "import pandas as pd\n",
    "from sklearn.decomposition import PCA\n",
    "from sklearn.feature_selection import SelectKBest\n",
    "from sklearn.feature_selection import f_regression"
   ]
  },
  {
   "cell_type": "code",
   "execution_count": 2,
   "metadata": {},
   "outputs": [
    {
     "name": "stdout",
     "output_type": "stream",
     "text": [
      "Current working directory: /Users/mayermamdouh/Desktop/Assignment1/bd-a1\n"
     ]
    }
   ],
   "source": [
    "import os\n",
    "print(\"Current working directory:\", os.getcwd())"
   ]
  },
  {
   "cell_type": "code",
   "execution_count": 6,
   "metadata": {},
   "outputs": [],
   "source": [
    "import pandas as pd\n",
    "\n",
    "# Input the file path interactively\n",
    "file_path = input(\"Enter the file path: \")\n",
    "\n",
    "# Load the dataset into a DataFrame\n",
    "try:\n",
    "    df = pd.read_csv(file_path)\n",
    "except FileNotFoundError:\n",
    "    print(f\"File not found: {file_path}\")\n",
    "    exit(1)\n",
    "\n",
    "# Now, let's pass the DataFrame to the next file (dpre.py)\n",
    "exec(open(\"dpre.py\").read())\n"
   ]
  },
  {
   "cell_type": "code",
   "execution_count": 13,
   "metadata": {},
   "outputs": [
    {
     "name": "stdout",
     "output_type": "stream",
     "text": [
      "Index(['Country', 'Region', 'New_Column'], dtype='object')\n",
      "Loaded DataFrame:\n",
      "             Country                Region  New_Column\n",
      "0        AFGHANISTAN          Central Asia        43.2\n",
      "1            ALBANIA                Europe         4.8\n",
      "2            ALGERIA                Africa        48.6\n",
      "3             ANGOLA                Africa        40.7\n",
      "4  ANTIGUA & BARBUDA  Central & N. America         5.1\n"
     ]
    }
   ],
   "source": [
    "print(df.columns)\n",
    "print(\"Loaded DataFrame:\")\n",
    "print(df.head())"
   ]
  },
  {
   "cell_type": "code",
   "execution_count": 25,
   "metadata": {},
   "outputs": [
    {
     "data": {
      "text/html": [
       "<div>\n",
       "<style scoped>\n",
       "    .dataframe tbody tr th:only-of-type {\n",
       "        vertical-align: middle;\n",
       "    }\n",
       "\n",
       "    .dataframe tbody tr th {\n",
       "        vertical-align: top;\n",
       "    }\n",
       "\n",
       "    .dataframe thead th {\n",
       "        text-align: right;\n",
       "    }\n",
       "</style>\n",
       "<table border=\"1\" class=\"dataframe\">\n",
       "  <thead>\n",
       "    <tr style=\"text-align: right;\">\n",
       "      <th></th>\n",
       "      <th>Country</th>\n",
       "      <th>Region</th>\n",
       "      <th>Country_Label</th>\n",
       "      <th>Country_Region</th>\n",
       "    </tr>\n",
       "  </thead>\n",
       "  <tbody>\n",
       "    <tr>\n",
       "      <th>0</th>\n",
       "      <td>AFGHANISTAN</td>\n",
       "      <td>Central Asia</td>\n",
       "      <td>0</td>\n",
       "      <td>AFGHANISTAN - Central Asia</td>\n",
       "    </tr>\n",
       "    <tr>\n",
       "      <th>6</th>\n",
       "      <td>ARMENIA</td>\n",
       "      <td>Central Asia</td>\n",
       "      <td>1</td>\n",
       "      <td>ARMENIA - Central Asia</td>\n",
       "    </tr>\n",
       "    <tr>\n",
       "      <th>10</th>\n",
       "      <td>AZERBAIJAN</td>\n",
       "      <td>Central Asia</td>\n",
       "      <td>2</td>\n",
       "      <td>AZERBAIJAN - Central Asia</td>\n",
       "    </tr>\n",
       "    <tr>\n",
       "      <th>13</th>\n",
       "      <td>BANGLADESH</td>\n",
       "      <td>Central Asia</td>\n",
       "      <td>3</td>\n",
       "      <td>BANGLADESH - Central Asia</td>\n",
       "    </tr>\n",
       "    <tr>\n",
       "      <th>19</th>\n",
       "      <td>BHUTAN</td>\n",
       "      <td>Central Asia</td>\n",
       "      <td>4</td>\n",
       "      <td>BHUTAN - Central Asia</td>\n",
       "    </tr>\n",
       "  </tbody>\n",
       "</table>\n",
       "</div>"
      ],
      "text/plain": [
       "        Country        Region  Country_Label              Country_Region\n",
       "0   AFGHANISTAN  Central Asia              0  AFGHANISTAN - Central Asia\n",
       "6       ARMENIA  Central Asia              1      ARMENIA - Central Asia\n",
       "10   AZERBAIJAN  Central Asia              2   AZERBAIJAN - Central Asia\n",
       "13   BANGLADESH  Central Asia              3   BANGLADESH - Central Asia\n",
       "19       BHUTAN  Central Asia              4       BHUTAN - Central Asia"
      ]
     },
     "execution_count": 25,
     "metadata": {},
     "output_type": "execute_result"
    }
   ],
   "source": [
    "import pandas as pd\n",
    "\n",
    "# Load the dataset (assuming you have already loaded it)\n",
    "\n",
    "# Data Cleaning\n",
    "# Task 1: Remove duplicate rows\n",
    "df = df.drop_duplicates()\n",
    "\n",
    "# Task 2: Handle missing values (replace with zeros for simplicity)\n",
    "df.fillna(0, inplace=True)\n",
    "\n",
    "# Data Transformation\n",
    "# Task 3: Convert a column to uppercase (e.g., 'Country')\n",
    "df['Country'] = df['Country'].str.upper()\n",
    "\n",
    "# Task 4: Calculate a new column from existing data (e.g., 'Region' length)\n",
    "df['Region_Length'] = df['Region'].apply(len)\n",
    "\n",
    "# Data Reduction\n",
    "# Task 5: Select a subset of columns (e.g., 'Country' and 'Region')\n",
    "df = df[['Country', 'Region']]\n",
    "\n",
    "# Task 6: Filter rows based on a condition (e.g., only keep rows where 'Region' contains 'Asia')\n",
    "df = df[df['Region'].str.contains('Asia')]\n",
    "\n",
    "# Data Encoding without scikit-learn\n",
    "# Task 7: Encode categorical data into numerical values (e.g., 'Country' without LabelEncoder)\n",
    "\n",
    "unique_countries = df['Country'].unique()\n",
    "country_to_numeric = {country: idx for idx, country in enumerate(unique_countries)}\n",
    "df['Country_Label'] = df['Country'].map(country_to_numeric)\n",
    "\n",
    "# Task 8: Create a new column that combines 'Country' and 'Region'\n",
    "df['Country_Region'] = df['Country'] + ' - ' + df['Region']\n",
    "\n"
   ]
  },
  {
   "cell_type": "code",
   "execution_count": null,
   "metadata": {},
   "outputs": [],
   "source": [
    "#!/bin/bash\n",
    "\n",
    "\n",
    "# docker run -d --name peaceful_chaum ubuntu\n",
    "# docker exec -it peaceful_chaum python dpre.py\n",
    "# docker exec -it peaceful_chaum python eda.py\n",
    "# docker exec -it peaceful_chaum python vis.py\n",
    "# docker exec -it peaceful_chaum python model.py\n",
    "\n",
    "# sleep 5\n",
    "\n",
    "docker cp peaceful_chaum:/path/to/dpre-output/ /Users/mayermamdouh/Desktop/Assignment1/bd-a1/service-result/\n",
    "docker cp peaceful_chaum:/path/to/eda-output/ /Users/mayermamdouh/Desktop/Assignment1/bd-a1/service-result/\n",
    "docker cp peaceful_chaum:/path/to/vis-output/ /Users/mayermamdouh/Desktop/Assignment1/bd-a1/service-result/\n",
    "docker cp peaceful_chaum:/path/to/model-output/ /Users/mayermamdouh/Desktop/Assignment1/bd-a1/service-result/\n",
    "\n",
    "docker stop peaceful_chaum\n",
    "docker rm peaceful_chaum"
   ]
  }
 ],
 "metadata": {
  "kernelspec": {
   "display_name": "base",
   "language": "python",
   "name": "python3"
  },
  "language_info": {
   "codemirror_mode": {
    "name": "ipython",
    "version": 3
   },
   "file_extension": ".py",
   "mimetype": "text/x-python",
   "name": "python",
   "nbconvert_exporter": "python",
   "pygments_lexer": "ipython3",
   "version": "3.9.7"
  }
 },
 "nbformat": 4,
 "nbformat_minor": 2
}
